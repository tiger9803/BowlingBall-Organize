{
 "cells": [
  {
   "cell_type": "code",
   "execution_count": 79,
   "id": "857205d2",
   "metadata": {},
   "outputs": [],
   "source": [
    "import pandas as pd\n",
    "db_csv = pd.read_csv('database.csv')"
   ]
  },
  {
   "cell_type": "code",
   "execution_count": 80,
   "id": "9e43ccaf",
   "metadata": {},
   "outputs": [
    {
     "data": {
      "text/html": [
       "<div>\n",
       "<style scoped>\n",
       "    .dataframe tbody tr th:only-of-type {\n",
       "        vertical-align: middle;\n",
       "    }\n",
       "\n",
       "    .dataframe tbody tr th {\n",
       "        vertical-align: top;\n",
       "    }\n",
       "\n",
       "    .dataframe thead th {\n",
       "        text-align: right;\n",
       "    }\n",
       "</style>\n",
       "<table border=\"1\" class=\"dataframe\">\n",
       "  <thead>\n",
       "    <tr style=\"text-align: right;\">\n",
       "      <th></th>\n",
       "      <th>Company_name</th>\n",
       "      <th>Ball_name</th>\n",
       "      <th>LBS</th>\n",
       "      <th>RG</th>\n",
       "      <th>DIFF</th>\n",
       "      <th>PSA</th>\n",
       "      <th>Coverstock</th>\n",
       "      <th>Weight_block</th>\n",
       "      <th>Factory_finish</th>\n",
       "      <th>Color</th>\n",
       "      <th>Flare_potential</th>\n",
       "      <th>Fragnance</th>\n",
       "    </tr>\n",
       "  </thead>\n",
       "  <tbody>\n",
       "    <tr>\n",
       "      <th>0</th>\n",
       "      <td>STORM</td>\n",
       "      <td>CODE BATTLE</td>\n",
       "      <td>16</td>\n",
       "      <td>2.49</td>\n",
       "      <td>0.056</td>\n",
       "      <td>0.022</td>\n",
       "      <td>Reative Hybrid</td>\n",
       "      <td>RAD4TM Core</td>\n",
       "      <td>3000-grit Abralon</td>\n",
       "      <td>Blackberry, black, white</td>\n",
       "      <td>High</td>\n",
       "      <td>Candy Apple</td>\n",
       "    </tr>\n",
       "    <tr>\n",
       "      <th>1</th>\n",
       "      <td>STORM</td>\n",
       "      <td>CODE BATTLE</td>\n",
       "      <td>15</td>\n",
       "      <td>2.50</td>\n",
       "      <td>0.058</td>\n",
       "      <td>0.020</td>\n",
       "      <td>Reative Hybrid</td>\n",
       "      <td>RAD4TM Core</td>\n",
       "      <td>3000-grit Abralon</td>\n",
       "      <td>Blackberry, black, white</td>\n",
       "      <td>High</td>\n",
       "      <td>Candy Apple</td>\n",
       "    </tr>\n",
       "    <tr>\n",
       "      <th>2</th>\n",
       "      <td>STORM</td>\n",
       "      <td>CODE BATTLE</td>\n",
       "      <td>14</td>\n",
       "      <td>2.55</td>\n",
       "      <td>0.056</td>\n",
       "      <td>0.014</td>\n",
       "      <td>Reative Hybrid</td>\n",
       "      <td>RAD4TM Core</td>\n",
       "      <td>3000-grit Abralon</td>\n",
       "      <td>Blackberry, black, white</td>\n",
       "      <td>High</td>\n",
       "      <td>Candy Apple</td>\n",
       "    </tr>\n",
       "    <tr>\n",
       "      <th>3</th>\n",
       "      <td>STORM</td>\n",
       "      <td>CODE BATTLE</td>\n",
       "      <td>13</td>\n",
       "      <td>2.63</td>\n",
       "      <td>0.039</td>\n",
       "      <td>0.011</td>\n",
       "      <td>Reative Hybrid</td>\n",
       "      <td>RAD4TM Core</td>\n",
       "      <td>3000-grit Abralon</td>\n",
       "      <td>Blackberry, black, white</td>\n",
       "      <td>High</td>\n",
       "      <td>Candy Apple</td>\n",
       "    </tr>\n",
       "    <tr>\n",
       "      <th>4</th>\n",
       "      <td>STORM</td>\n",
       "      <td>CODE BATTLE</td>\n",
       "      <td>12</td>\n",
       "      <td>2.72</td>\n",
       "      <td>0.022</td>\n",
       "      <td>0.006</td>\n",
       "      <td>Reative Hybrid</td>\n",
       "      <td>RAD4TM Core</td>\n",
       "      <td>3000-grit Abralon</td>\n",
       "      <td>Blackberry, black, white</td>\n",
       "      <td>High</td>\n",
       "      <td>Candy Apple</td>\n",
       "    </tr>\n",
       "    <tr>\n",
       "      <th>...</th>\n",
       "      <td>...</td>\n",
       "      <td>...</td>\n",
       "      <td>...</td>\n",
       "      <td>...</td>\n",
       "      <td>...</td>\n",
       "      <td>...</td>\n",
       "      <td>...</td>\n",
       "      <td>...</td>\n",
       "      <td>...</td>\n",
       "      <td>...</td>\n",
       "      <td>...</td>\n",
       "      <td>...</td>\n",
       "    </tr>\n",
       "    <tr>\n",
       "      <th>62</th>\n",
       "      <td>STORM</td>\n",
       "      <td>TROPICAL SURGE (G/P)</td>\n",
       "      <td>12</td>\n",
       "      <td>2.64</td>\n",
       "      <td>0.020</td>\n",
       "      <td>NaN</td>\n",
       "      <td>Reactive Pearl</td>\n",
       "      <td>SurgeTM Core</td>\n",
       "      <td>Reacta Gloss</td>\n",
       "      <td>Gold, Purple</td>\n",
       "      <td>Medium</td>\n",
       "      <td>Red Hot Cinnamon</td>\n",
       "    </tr>\n",
       "    <tr>\n",
       "      <th>63</th>\n",
       "      <td>STORM</td>\n",
       "      <td>MIX-MAGENTA/GREY/PURPLE</td>\n",
       "      <td>15</td>\n",
       "      <td>2.69</td>\n",
       "      <td>0.006</td>\n",
       "      <td>NaN</td>\n",
       "      <td>Urethane</td>\n",
       "      <td>Traditional 3-piece Core</td>\n",
       "      <td>3500-grit Polished</td>\n",
       "      <td>Magenta, Grey, Purple</td>\n",
       "      <td>Low</td>\n",
       "      <td>NaN</td>\n",
       "    </tr>\n",
       "    <tr>\n",
       "      <th>64</th>\n",
       "      <td>STORM</td>\n",
       "      <td>MIX-MAGENTA/GREY/PURPLE</td>\n",
       "      <td>14</td>\n",
       "      <td>2.69</td>\n",
       "      <td>0.006</td>\n",
       "      <td>NaN</td>\n",
       "      <td>Urethane</td>\n",
       "      <td>Traditional 3-piece Core</td>\n",
       "      <td>3500-grit Polished</td>\n",
       "      <td>Magenta, Grey, Purple</td>\n",
       "      <td>Low</td>\n",
       "      <td>NaN</td>\n",
       "    </tr>\n",
       "    <tr>\n",
       "      <th>65</th>\n",
       "      <td>STORM</td>\n",
       "      <td>MIX-MAGENTA/GREY/PURPLE</td>\n",
       "      <td>13</td>\n",
       "      <td>2.71</td>\n",
       "      <td>0.005</td>\n",
       "      <td>NaN</td>\n",
       "      <td>Urethane</td>\n",
       "      <td>Traditional 3-piece Core</td>\n",
       "      <td>3500-grit Polished</td>\n",
       "      <td>Magenta, Grey, Purple</td>\n",
       "      <td>Low</td>\n",
       "      <td>NaN</td>\n",
       "    </tr>\n",
       "    <tr>\n",
       "      <th>66</th>\n",
       "      <td>STORM</td>\n",
       "      <td>MIX-MAGENTA/GREY/PURPLE</td>\n",
       "      <td>12</td>\n",
       "      <td>2.72</td>\n",
       "      <td>0.005</td>\n",
       "      <td>NaN</td>\n",
       "      <td>Urethane</td>\n",
       "      <td>Traditional 3-piece Core</td>\n",
       "      <td>3500-grit Polished</td>\n",
       "      <td>Magenta, Grey, Purple</td>\n",
       "      <td>Low</td>\n",
       "      <td>NaN</td>\n",
       "    </tr>\n",
       "  </tbody>\n",
       "</table>\n",
       "<p>67 rows × 12 columns</p>\n",
       "</div>"
      ],
      "text/plain": [
       "   Company_name                Ball_name  LBS    RG   DIFF    PSA  \\\n",
       "0         STORM              CODE BATTLE   16  2.49  0.056  0.022   \n",
       "1         STORM              CODE BATTLE   15  2.50  0.058  0.020   \n",
       "2         STORM              CODE BATTLE   14  2.55  0.056  0.014   \n",
       "3         STORM              CODE BATTLE   13  2.63  0.039  0.011   \n",
       "4         STORM              CODE BATTLE   12  2.72  0.022  0.006   \n",
       "..          ...                      ...  ...   ...    ...    ...   \n",
       "62        STORM     TROPICAL SURGE (G/P)   12  2.64  0.020    NaN   \n",
       "63        STORM  MIX-MAGENTA/GREY/PURPLE   15  2.69  0.006    NaN   \n",
       "64        STORM  MIX-MAGENTA/GREY/PURPLE   14  2.69  0.006    NaN   \n",
       "65        STORM  MIX-MAGENTA/GREY/PURPLE   13  2.71  0.005    NaN   \n",
       "66        STORM  MIX-MAGENTA/GREY/PURPLE   12  2.72  0.005    NaN   \n",
       "\n",
       "        Coverstock              Weight_block      Factory_finish  \\\n",
       "0   Reative Hybrid               RAD4TM Core   3000-grit Abralon   \n",
       "1   Reative Hybrid               RAD4TM Core   3000-grit Abralon   \n",
       "2   Reative Hybrid               RAD4TM Core   3000-grit Abralon   \n",
       "3   Reative Hybrid               RAD4TM Core   3000-grit Abralon   \n",
       "4   Reative Hybrid               RAD4TM Core   3000-grit Abralon   \n",
       "..             ...                       ...                 ...   \n",
       "62  Reactive Pearl              SurgeTM Core        Reacta Gloss   \n",
       "63        Urethane  Traditional 3-piece Core  3500-grit Polished   \n",
       "64        Urethane  Traditional 3-piece Core  3500-grit Polished   \n",
       "65        Urethane  Traditional 3-piece Core  3500-grit Polished   \n",
       "66        Urethane  Traditional 3-piece Core  3500-grit Polished   \n",
       "\n",
       "                       Color Flare_potential         Fragnance  \n",
       "0   Blackberry, black, white            High       Candy Apple  \n",
       "1   Blackberry, black, white            High       Candy Apple  \n",
       "2   Blackberry, black, white            High       Candy Apple  \n",
       "3   Blackberry, black, white            High       Candy Apple  \n",
       "4   Blackberry, black, white            High       Candy Apple  \n",
       "..                       ...             ...               ...  \n",
       "62              Gold, Purple          Medium  Red Hot Cinnamon  \n",
       "63     Magenta, Grey, Purple             Low               NaN  \n",
       "64     Magenta, Grey, Purple             Low               NaN  \n",
       "65     Magenta, Grey, Purple             Low               NaN  \n",
       "66     Magenta, Grey, Purple             Low               NaN  \n",
       "\n",
       "[67 rows x 12 columns]"
      ]
     },
     "execution_count": 80,
     "metadata": {},
     "output_type": "execute_result"
    }
   ],
   "source": [
    "db_csv"
   ]
  },
  {
   "cell_type": "code",
   "execution_count": 81,
   "id": "fbf278a5",
   "metadata": {},
   "outputs": [
    {
     "data": {
      "application/vnd.plotly.v1+json": {
       "config": {
        "plotlyServerURL": "https://plot.ly"
       },
       "data": [
        {
         "customdata": [
          [
           "STORM",
           "CODE BATTLE",
           15,
           0.02,
           "Reative Hybrid",
           "RAD4TM Core",
           "3000-grit Abralon",
           "Blackberry, black, white",
           "High",
           "Candy Apple"
          ],
          [
           "STORM",
           "DOMINATION BURGUNDY",
           15,
           0.026,
           "Reative Solid",
           "RAD+TM Core",
           "3000-grit Abralon",
           "Burgundy",
           "High",
           "Cherry Berry Smoothie"
          ],
          [
           "STORM",
           "REAL ABSOLUTE",
           15,
           0.021,
           "Reactive Pearl",
           "SentinelTM Core",
           "1500-grit Polished",
           "Fuchsia, Violet, Coal",
           "High",
           "Grape Punch"
          ],
          [
           "STORM",
           "DARK PHYSIX",
           15,
           0.017,
           "Reative Hybrid",
           "AtomicTM Core",
           "Reacta Gloss",
           "3-tone Black",
           "High",
           "Fruit Trifle"
          ],
          [
           "STORM",
           "DNA",
           15,
           0.023,
           "Reative Solid",
           "SupercoilTM Core",
           "2000-grit Abralon",
           "Red, Black, Violet",
           "High",
           "Strawberry Shortcake"
          ],
          [
           "STORM",
           "PERFECT LOCK",
           15,
           0.018,
           "Reative Solid",
           "RAD-XTM Core",
           "3000-grit Abralon",
           "Turquoise, Violet, Black",
           "High",
           "Fruit Trifle"
          ],
          [
           "STORM",
           "THE CODE",
           15,
           0.02,
           "Reative Solid",
           "RAD4TM Core",
           "1500-grit Polished",
           "Navy",
           "High",
           "Sangria"
          ],
          [
           "STORM",
           "ABSOLUTE",
           15,
           0.021,
           "Reative Hybrid",
           "SentinelTM Core",
           "Reacta Gloss",
           "Copperhead, Jade, Phantom Black",
           "High",
           "Orange Cream Soda"
          ],
          [
           "STORM",
           "FATE",
           15,
           null,
           "Reactive Pearl",
           "F-8TM Core",
           "1500-grit Polished",
           "Sapphire",
           "High",
           "Cherry Berry Smoothie"
          ],
          [
           "STORM",
           "MARVEL U-NXT",
           15,
           null,
           "Urethane",
           "CentripetalTM Core",
           "4K-Fast",
           "Burgundy",
           "High",
           null
          ],
          [
           "STORM",
           "FIGHT ROAD",
           15,
           null,
           "Reactive Pearl",
           "Inverted Fe2 TechnologyTM",
           "1500-grit Polished",
           "Purple, White",
           "Medium-High",
           "Combination Berry"
          ],
          [
           "STORM",
           "ELECTRIFY B/S/Y",
           15,
           null,
           "Reactive Pearl",
           "CircuitTM Core",
           "Reacta Gloss",
           "Black, Silver, Yellow",
           "Medium",
           "Ambrosia"
          ],
          [
           "STORM",
           "TROPICAL SURGE (G/P)",
           15,
           null,
           "Reactive Pearl",
           "SurgeTM Core",
           "Reacta Gloss",
           "Gold, Purple",
           "Medium",
           "Red Hot Cinnamon"
          ],
          [
           "STORM",
           "MIX-MAGENTA/GREY/PURPLE",
           15,
           null,
           "Urethane",
           "Traditional 3-piece Core",
           "3500-grit Polished",
           "Magenta, Grey, Purple",
           "Low",
           null
          ]
         ],
         "hovertemplate": "DIFF=%{x}<br>RG=%{y}<br>Company_name=%{customdata[0]}<br>Ball_name=%{customdata[1]}<br>LBS=%{customdata[2]}<br>PSA=%{customdata[3]}<br>Coverstock=%{customdata[4]}<br>Weight_block=%{customdata[5]}<br>Factory_finish=%{customdata[6]}<br>Color=%{customdata[7]}<br>Flare_potential=%{customdata[8]}<br>Fragnance=%{customdata[9]}<extra></extra>",
         "legendgroup": "",
         "marker": {
          "color": "#636efa",
          "symbol": "circle"
         },
         "mode": "markers",
         "name": "",
         "orientation": "v",
         "showlegend": false,
         "type": "scatter",
         "x": [
          0.058,
          0.047,
          0.05,
          0.053,
          0.053,
          0.054,
          0.058,
          0.05,
          0.053,
          0.05,
          0.046,
          0.03,
          0.024,
          0.006
         ],
         "xaxis": "x",
         "y": [
          2.5,
          2.49,
          2.48,
          2.48,
          2.47,
          2.48,
          2.5,
          2.48,
          2.52,
          2.48,
          2.57,
          2.51,
          2.58,
          2.69
         ],
         "yaxis": "y"
        }
       ],
       "layout": {
        "legend": {
         "tracegroupgap": 0
        },
        "template": {
         "data": {
          "bar": [
           {
            "error_x": {
             "color": "#2a3f5f"
            },
            "error_y": {
             "color": "#2a3f5f"
            },
            "marker": {
             "line": {
              "color": "#E5ECF6",
              "width": 0.5
             },
             "pattern": {
              "fillmode": "overlay",
              "size": 10,
              "solidity": 0.2
             }
            },
            "type": "bar"
           }
          ],
          "barpolar": [
           {
            "marker": {
             "line": {
              "color": "#E5ECF6",
              "width": 0.5
             },
             "pattern": {
              "fillmode": "overlay",
              "size": 10,
              "solidity": 0.2
             }
            },
            "type": "barpolar"
           }
          ],
          "carpet": [
           {
            "aaxis": {
             "endlinecolor": "#2a3f5f",
             "gridcolor": "white",
             "linecolor": "white",
             "minorgridcolor": "white",
             "startlinecolor": "#2a3f5f"
            },
            "baxis": {
             "endlinecolor": "#2a3f5f",
             "gridcolor": "white",
             "linecolor": "white",
             "minorgridcolor": "white",
             "startlinecolor": "#2a3f5f"
            },
            "type": "carpet"
           }
          ],
          "choropleth": [
           {
            "colorbar": {
             "outlinewidth": 0,
             "ticks": ""
            },
            "type": "choropleth"
           }
          ],
          "contour": [
           {
            "colorbar": {
             "outlinewidth": 0,
             "ticks": ""
            },
            "colorscale": [
             [
              0,
              "#0d0887"
             ],
             [
              0.1111111111111111,
              "#46039f"
             ],
             [
              0.2222222222222222,
              "#7201a8"
             ],
             [
              0.3333333333333333,
              "#9c179e"
             ],
             [
              0.4444444444444444,
              "#bd3786"
             ],
             [
              0.5555555555555556,
              "#d8576b"
             ],
             [
              0.6666666666666666,
              "#ed7953"
             ],
             [
              0.7777777777777778,
              "#fb9f3a"
             ],
             [
              0.8888888888888888,
              "#fdca26"
             ],
             [
              1,
              "#f0f921"
             ]
            ],
            "type": "contour"
           }
          ],
          "contourcarpet": [
           {
            "colorbar": {
             "outlinewidth": 0,
             "ticks": ""
            },
            "type": "contourcarpet"
           }
          ],
          "heatmap": [
           {
            "colorbar": {
             "outlinewidth": 0,
             "ticks": ""
            },
            "colorscale": [
             [
              0,
              "#0d0887"
             ],
             [
              0.1111111111111111,
              "#46039f"
             ],
             [
              0.2222222222222222,
              "#7201a8"
             ],
             [
              0.3333333333333333,
              "#9c179e"
             ],
             [
              0.4444444444444444,
              "#bd3786"
             ],
             [
              0.5555555555555556,
              "#d8576b"
             ],
             [
              0.6666666666666666,
              "#ed7953"
             ],
             [
              0.7777777777777778,
              "#fb9f3a"
             ],
             [
              0.8888888888888888,
              "#fdca26"
             ],
             [
              1,
              "#f0f921"
             ]
            ],
            "type": "heatmap"
           }
          ],
          "heatmapgl": [
           {
            "colorbar": {
             "outlinewidth": 0,
             "ticks": ""
            },
            "colorscale": [
             [
              0,
              "#0d0887"
             ],
             [
              0.1111111111111111,
              "#46039f"
             ],
             [
              0.2222222222222222,
              "#7201a8"
             ],
             [
              0.3333333333333333,
              "#9c179e"
             ],
             [
              0.4444444444444444,
              "#bd3786"
             ],
             [
              0.5555555555555556,
              "#d8576b"
             ],
             [
              0.6666666666666666,
              "#ed7953"
             ],
             [
              0.7777777777777778,
              "#fb9f3a"
             ],
             [
              0.8888888888888888,
              "#fdca26"
             ],
             [
              1,
              "#f0f921"
             ]
            ],
            "type": "heatmapgl"
           }
          ],
          "histogram": [
           {
            "marker": {
             "pattern": {
              "fillmode": "overlay",
              "size": 10,
              "solidity": 0.2
             }
            },
            "type": "histogram"
           }
          ],
          "histogram2d": [
           {
            "colorbar": {
             "outlinewidth": 0,
             "ticks": ""
            },
            "colorscale": [
             [
              0,
              "#0d0887"
             ],
             [
              0.1111111111111111,
              "#46039f"
             ],
             [
              0.2222222222222222,
              "#7201a8"
             ],
             [
              0.3333333333333333,
              "#9c179e"
             ],
             [
              0.4444444444444444,
              "#bd3786"
             ],
             [
              0.5555555555555556,
              "#d8576b"
             ],
             [
              0.6666666666666666,
              "#ed7953"
             ],
             [
              0.7777777777777778,
              "#fb9f3a"
             ],
             [
              0.8888888888888888,
              "#fdca26"
             ],
             [
              1,
              "#f0f921"
             ]
            ],
            "type": "histogram2d"
           }
          ],
          "histogram2dcontour": [
           {
            "colorbar": {
             "outlinewidth": 0,
             "ticks": ""
            },
            "colorscale": [
             [
              0,
              "#0d0887"
             ],
             [
              0.1111111111111111,
              "#46039f"
             ],
             [
              0.2222222222222222,
              "#7201a8"
             ],
             [
              0.3333333333333333,
              "#9c179e"
             ],
             [
              0.4444444444444444,
              "#bd3786"
             ],
             [
              0.5555555555555556,
              "#d8576b"
             ],
             [
              0.6666666666666666,
              "#ed7953"
             ],
             [
              0.7777777777777778,
              "#fb9f3a"
             ],
             [
              0.8888888888888888,
              "#fdca26"
             ],
             [
              1,
              "#f0f921"
             ]
            ],
            "type": "histogram2dcontour"
           }
          ],
          "mesh3d": [
           {
            "colorbar": {
             "outlinewidth": 0,
             "ticks": ""
            },
            "type": "mesh3d"
           }
          ],
          "parcoords": [
           {
            "line": {
             "colorbar": {
              "outlinewidth": 0,
              "ticks": ""
             }
            },
            "type": "parcoords"
           }
          ],
          "pie": [
           {
            "automargin": true,
            "type": "pie"
           }
          ],
          "scatter": [
           {
            "marker": {
             "colorbar": {
              "outlinewidth": 0,
              "ticks": ""
             }
            },
            "type": "scatter"
           }
          ],
          "scatter3d": [
           {
            "line": {
             "colorbar": {
              "outlinewidth": 0,
              "ticks": ""
             }
            },
            "marker": {
             "colorbar": {
              "outlinewidth": 0,
              "ticks": ""
             }
            },
            "type": "scatter3d"
           }
          ],
          "scattercarpet": [
           {
            "marker": {
             "colorbar": {
              "outlinewidth": 0,
              "ticks": ""
             }
            },
            "type": "scattercarpet"
           }
          ],
          "scattergeo": [
           {
            "marker": {
             "colorbar": {
              "outlinewidth": 0,
              "ticks": ""
             }
            },
            "type": "scattergeo"
           }
          ],
          "scattergl": [
           {
            "marker": {
             "colorbar": {
              "outlinewidth": 0,
              "ticks": ""
             }
            },
            "type": "scattergl"
           }
          ],
          "scattermapbox": [
           {
            "marker": {
             "colorbar": {
              "outlinewidth": 0,
              "ticks": ""
             }
            },
            "type": "scattermapbox"
           }
          ],
          "scatterpolar": [
           {
            "marker": {
             "colorbar": {
              "outlinewidth": 0,
              "ticks": ""
             }
            },
            "type": "scatterpolar"
           }
          ],
          "scatterpolargl": [
           {
            "marker": {
             "colorbar": {
              "outlinewidth": 0,
              "ticks": ""
             }
            },
            "type": "scatterpolargl"
           }
          ],
          "scatterternary": [
           {
            "marker": {
             "colorbar": {
              "outlinewidth": 0,
              "ticks": ""
             }
            },
            "type": "scatterternary"
           }
          ],
          "surface": [
           {
            "colorbar": {
             "outlinewidth": 0,
             "ticks": ""
            },
            "colorscale": [
             [
              0,
              "#0d0887"
             ],
             [
              0.1111111111111111,
              "#46039f"
             ],
             [
              0.2222222222222222,
              "#7201a8"
             ],
             [
              0.3333333333333333,
              "#9c179e"
             ],
             [
              0.4444444444444444,
              "#bd3786"
             ],
             [
              0.5555555555555556,
              "#d8576b"
             ],
             [
              0.6666666666666666,
              "#ed7953"
             ],
             [
              0.7777777777777778,
              "#fb9f3a"
             ],
             [
              0.8888888888888888,
              "#fdca26"
             ],
             [
              1,
              "#f0f921"
             ]
            ],
            "type": "surface"
           }
          ],
          "table": [
           {
            "cells": {
             "fill": {
              "color": "#EBF0F8"
             },
             "line": {
              "color": "white"
             }
            },
            "header": {
             "fill": {
              "color": "#C8D4E3"
             },
             "line": {
              "color": "white"
             }
            },
            "type": "table"
           }
          ]
         },
         "layout": {
          "annotationdefaults": {
           "arrowcolor": "#2a3f5f",
           "arrowhead": 0,
           "arrowwidth": 1
          },
          "autotypenumbers": "strict",
          "coloraxis": {
           "colorbar": {
            "outlinewidth": 0,
            "ticks": ""
           }
          },
          "colorscale": {
           "diverging": [
            [
             0,
             "#8e0152"
            ],
            [
             0.1,
             "#c51b7d"
            ],
            [
             0.2,
             "#de77ae"
            ],
            [
             0.3,
             "#f1b6da"
            ],
            [
             0.4,
             "#fde0ef"
            ],
            [
             0.5,
             "#f7f7f7"
            ],
            [
             0.6,
             "#e6f5d0"
            ],
            [
             0.7,
             "#b8e186"
            ],
            [
             0.8,
             "#7fbc41"
            ],
            [
             0.9,
             "#4d9221"
            ],
            [
             1,
             "#276419"
            ]
           ],
           "sequential": [
            [
             0,
             "#0d0887"
            ],
            [
             0.1111111111111111,
             "#46039f"
            ],
            [
             0.2222222222222222,
             "#7201a8"
            ],
            [
             0.3333333333333333,
             "#9c179e"
            ],
            [
             0.4444444444444444,
             "#bd3786"
            ],
            [
             0.5555555555555556,
             "#d8576b"
            ],
            [
             0.6666666666666666,
             "#ed7953"
            ],
            [
             0.7777777777777778,
             "#fb9f3a"
            ],
            [
             0.8888888888888888,
             "#fdca26"
            ],
            [
             1,
             "#f0f921"
            ]
           ],
           "sequentialminus": [
            [
             0,
             "#0d0887"
            ],
            [
             0.1111111111111111,
             "#46039f"
            ],
            [
             0.2222222222222222,
             "#7201a8"
            ],
            [
             0.3333333333333333,
             "#9c179e"
            ],
            [
             0.4444444444444444,
             "#bd3786"
            ],
            [
             0.5555555555555556,
             "#d8576b"
            ],
            [
             0.6666666666666666,
             "#ed7953"
            ],
            [
             0.7777777777777778,
             "#fb9f3a"
            ],
            [
             0.8888888888888888,
             "#fdca26"
            ],
            [
             1,
             "#f0f921"
            ]
           ]
          },
          "colorway": [
           "#636efa",
           "#EF553B",
           "#00cc96",
           "#ab63fa",
           "#FFA15A",
           "#19d3f3",
           "#FF6692",
           "#B6E880",
           "#FF97FF",
           "#FECB52"
          ],
          "font": {
           "color": "#2a3f5f"
          },
          "geo": {
           "bgcolor": "white",
           "lakecolor": "white",
           "landcolor": "#E5ECF6",
           "showlakes": true,
           "showland": true,
           "subunitcolor": "white"
          },
          "hoverlabel": {
           "align": "left"
          },
          "hovermode": "closest",
          "mapbox": {
           "style": "light"
          },
          "paper_bgcolor": "white",
          "plot_bgcolor": "#E5ECF6",
          "polar": {
           "angularaxis": {
            "gridcolor": "white",
            "linecolor": "white",
            "ticks": ""
           },
           "bgcolor": "#E5ECF6",
           "radialaxis": {
            "gridcolor": "white",
            "linecolor": "white",
            "ticks": ""
           }
          },
          "scene": {
           "xaxis": {
            "backgroundcolor": "#E5ECF6",
            "gridcolor": "white",
            "gridwidth": 2,
            "linecolor": "white",
            "showbackground": true,
            "ticks": "",
            "zerolinecolor": "white"
           },
           "yaxis": {
            "backgroundcolor": "#E5ECF6",
            "gridcolor": "white",
            "gridwidth": 2,
            "linecolor": "white",
            "showbackground": true,
            "ticks": "",
            "zerolinecolor": "white"
           },
           "zaxis": {
            "backgroundcolor": "#E5ECF6",
            "gridcolor": "white",
            "gridwidth": 2,
            "linecolor": "white",
            "showbackground": true,
            "ticks": "",
            "zerolinecolor": "white"
           }
          },
          "shapedefaults": {
           "line": {
            "color": "#2a3f5f"
           }
          },
          "ternary": {
           "aaxis": {
            "gridcolor": "white",
            "linecolor": "white",
            "ticks": ""
           },
           "baxis": {
            "gridcolor": "white",
            "linecolor": "white",
            "ticks": ""
           },
           "bgcolor": "#E5ECF6",
           "caxis": {
            "gridcolor": "white",
            "linecolor": "white",
            "ticks": ""
           }
          },
          "title": {
           "x": 0.05
          },
          "xaxis": {
           "automargin": true,
           "gridcolor": "white",
           "linecolor": "white",
           "ticks": "",
           "title": {
            "standoff": 15
           },
           "zerolinecolor": "white",
           "zerolinewidth": 2
          },
          "yaxis": {
           "automargin": true,
           "gridcolor": "white",
           "linecolor": "white",
           "ticks": "",
           "title": {
            "standoff": 15
           },
           "zerolinecolor": "white",
           "zerolinewidth": 2
          }
         }
        },
        "title": {
         "text": "15LBS Entire"
        },
        "xaxis": {
         "anchor": "y",
         "domain": [
          0,
          1
         ],
         "range": [
          0,
          0.06
         ],
         "title": {
          "text": "DIFF"
         }
        },
        "yaxis": {
         "anchor": "x",
         "autorange": "reversed",
         "domain": [
          0,
          1
         ],
         "range": [
          2.43,
          2.8
         ],
         "title": {
          "text": "RG"
         }
        }
       }
      },
      "text/html": [
       "<div>                            <div id=\"5c785287-0d32-4317-87f3-1be8f20ae4e5\" class=\"plotly-graph-div\" style=\"height:525px; width:100%;\"></div>            <script type=\"text/javascript\">                require([\"plotly\"], function(Plotly) {                    window.PLOTLYENV=window.PLOTLYENV || {};                                    if (document.getElementById(\"5c785287-0d32-4317-87f3-1be8f20ae4e5\")) {                    Plotly.newPlot(                        \"5c785287-0d32-4317-87f3-1be8f20ae4e5\",                        [{\"customdata\":[[\"STORM\",\"CODE BATTLE\",15,0.02,\"Reative Hybrid\",\"RAD4TM Core\",\"3000-grit Abralon\",\"Blackberry, black, white\",\"High\",\"Candy Apple\"],[\"STORM\",\"DOMINATION BURGUNDY\",15,0.026,\"Reative Solid\",\"RAD+TM Core\",\"3000-grit Abralon\",\"Burgundy\",\"High\",\"Cherry Berry Smoothie\"],[\"STORM\",\"REAL ABSOLUTE\",15,0.021,\"Reactive Pearl\",\"SentinelTM Core\",\"1500-grit Polished\",\"Fuchsia, Violet, Coal\",\"High\",\"Grape Punch\"],[\"STORM\",\"DARK PHYSIX\",15,0.017,\"Reative Hybrid\",\"AtomicTM Core\",\"Reacta Gloss\",\"3-tone Black\",\"High\",\"Fruit Trifle\"],[\"STORM\",\"DNA\",15,0.023,\"Reative Solid\",\"SupercoilTM Core\",\"2000-grit Abralon\",\"Red, Black, Violet\",\"High\",\"Strawberry Shortcake\"],[\"STORM\",\"PERFECT LOCK\",15,0.018,\"Reative Solid\",\"RAD-XTM Core\",\"3000-grit Abralon\",\"Turquoise, Violet, Black\",\"High\",\"Fruit Trifle\"],[\"STORM\",\"THE CODE\",15,0.02,\"Reative Solid\",\"RAD4TM Core\",\"1500-grit Polished\",\"Navy\",\"High\",\"Sangria\"],[\"STORM\",\"ABSOLUTE\",15,0.021,\"Reative Hybrid\",\"SentinelTM Core\",\"Reacta Gloss\",\"Copperhead, Jade, Phantom Black\",\"High\",\"Orange Cream Soda\"],[\"STORM\",\"FATE\",15,null,\"Reactive Pearl\",\"F-8TM Core\",\"1500-grit Polished\",\"Sapphire\",\"High\",\"Cherry Berry Smoothie\"],[\"STORM\",\"MARVEL U-NXT\",15,null,\"Urethane\",\"CentripetalTM Core\",\"4K-Fast\",\"Burgundy\",\"High\",null],[\"STORM\",\"FIGHT ROAD\",15,null,\"Reactive Pearl\",\"Inverted Fe2 TechnologyTM\",\"1500-grit Polished\",\"Purple, White\",\"Medium-High\",\"Combination Berry\"],[\"STORM\",\"ELECTRIFY B/S/Y\",15,null,\"Reactive Pearl\",\"CircuitTM Core\",\"Reacta Gloss\",\"Black, Silver, Yellow\",\"Medium\",\"Ambrosia\"],[\"STORM\",\"TROPICAL SURGE (G/P)\",15,null,\"Reactive Pearl\",\"SurgeTM Core\",\"Reacta Gloss\",\"Gold, Purple\",\"Medium\",\"Red Hot Cinnamon\"],[\"STORM\",\"MIX-MAGENTA/GREY/PURPLE\",15,null,\"Urethane\",\"Traditional 3-piece Core\",\"3500-grit Polished\",\"Magenta, Grey, Purple\",\"Low\",null]],\"hovertemplate\":\"DIFF=%{x}<br>RG=%{y}<br>Company_name=%{customdata[0]}<br>Ball_name=%{customdata[1]}<br>LBS=%{customdata[2]}<br>PSA=%{customdata[3]}<br>Coverstock=%{customdata[4]}<br>Weight_block=%{customdata[5]}<br>Factory_finish=%{customdata[6]}<br>Color=%{customdata[7]}<br>Flare_potential=%{customdata[8]}<br>Fragnance=%{customdata[9]}<extra></extra>\",\"legendgroup\":\"\",\"marker\":{\"color\":\"#636efa\",\"symbol\":\"circle\"},\"mode\":\"markers\",\"name\":\"\",\"orientation\":\"v\",\"showlegend\":false,\"x\":[0.058,0.047,0.05,0.053,0.053,0.054,0.058,0.05,0.053,0.05,0.046,0.03,0.024,0.006],\"xaxis\":\"x\",\"y\":[2.5,2.49,2.48,2.48,2.47,2.48,2.5,2.48,2.52,2.48,2.57,2.51,2.58,2.69],\"yaxis\":\"y\",\"type\":\"scatter\"}],                        {\"template\":{\"data\":{\"bar\":[{\"error_x\":{\"color\":\"#2a3f5f\"},\"error_y\":{\"color\":\"#2a3f5f\"},\"marker\":{\"line\":{\"color\":\"#E5ECF6\",\"width\":0.5},\"pattern\":{\"fillmode\":\"overlay\",\"size\":10,\"solidity\":0.2}},\"type\":\"bar\"}],\"barpolar\":[{\"marker\":{\"line\":{\"color\":\"#E5ECF6\",\"width\":0.5},\"pattern\":{\"fillmode\":\"overlay\",\"size\":10,\"solidity\":0.2}},\"type\":\"barpolar\"}],\"carpet\":[{\"aaxis\":{\"endlinecolor\":\"#2a3f5f\",\"gridcolor\":\"white\",\"linecolor\":\"white\",\"minorgridcolor\":\"white\",\"startlinecolor\":\"#2a3f5f\"},\"baxis\":{\"endlinecolor\":\"#2a3f5f\",\"gridcolor\":\"white\",\"linecolor\":\"white\",\"minorgridcolor\":\"white\",\"startlinecolor\":\"#2a3f5f\"},\"type\":\"carpet\"}],\"choropleth\":[{\"colorbar\":{\"outlinewidth\":0,\"ticks\":\"\"},\"type\":\"choropleth\"}],\"contour\":[{\"colorbar\":{\"outlinewidth\":0,\"ticks\":\"\"},\"colorscale\":[[0.0,\"#0d0887\"],[0.1111111111111111,\"#46039f\"],[0.2222222222222222,\"#7201a8\"],[0.3333333333333333,\"#9c179e\"],[0.4444444444444444,\"#bd3786\"],[0.5555555555555556,\"#d8576b\"],[0.6666666666666666,\"#ed7953\"],[0.7777777777777778,\"#fb9f3a\"],[0.8888888888888888,\"#fdca26\"],[1.0,\"#f0f921\"]],\"type\":\"contour\"}],\"contourcarpet\":[{\"colorbar\":{\"outlinewidth\":0,\"ticks\":\"\"},\"type\":\"contourcarpet\"}],\"heatmap\":[{\"colorbar\":{\"outlinewidth\":0,\"ticks\":\"\"},\"colorscale\":[[0.0,\"#0d0887\"],[0.1111111111111111,\"#46039f\"],[0.2222222222222222,\"#7201a8\"],[0.3333333333333333,\"#9c179e\"],[0.4444444444444444,\"#bd3786\"],[0.5555555555555556,\"#d8576b\"],[0.6666666666666666,\"#ed7953\"],[0.7777777777777778,\"#fb9f3a\"],[0.8888888888888888,\"#fdca26\"],[1.0,\"#f0f921\"]],\"type\":\"heatmap\"}],\"heatmapgl\":[{\"colorbar\":{\"outlinewidth\":0,\"ticks\":\"\"},\"colorscale\":[[0.0,\"#0d0887\"],[0.1111111111111111,\"#46039f\"],[0.2222222222222222,\"#7201a8\"],[0.3333333333333333,\"#9c179e\"],[0.4444444444444444,\"#bd3786\"],[0.5555555555555556,\"#d8576b\"],[0.6666666666666666,\"#ed7953\"],[0.7777777777777778,\"#fb9f3a\"],[0.8888888888888888,\"#fdca26\"],[1.0,\"#f0f921\"]],\"type\":\"heatmapgl\"}],\"histogram\":[{\"marker\":{\"pattern\":{\"fillmode\":\"overlay\",\"size\":10,\"solidity\":0.2}},\"type\":\"histogram\"}],\"histogram2d\":[{\"colorbar\":{\"outlinewidth\":0,\"ticks\":\"\"},\"colorscale\":[[0.0,\"#0d0887\"],[0.1111111111111111,\"#46039f\"],[0.2222222222222222,\"#7201a8\"],[0.3333333333333333,\"#9c179e\"],[0.4444444444444444,\"#bd3786\"],[0.5555555555555556,\"#d8576b\"],[0.6666666666666666,\"#ed7953\"],[0.7777777777777778,\"#fb9f3a\"],[0.8888888888888888,\"#fdca26\"],[1.0,\"#f0f921\"]],\"type\":\"histogram2d\"}],\"histogram2dcontour\":[{\"colorbar\":{\"outlinewidth\":0,\"ticks\":\"\"},\"colorscale\":[[0.0,\"#0d0887\"],[0.1111111111111111,\"#46039f\"],[0.2222222222222222,\"#7201a8\"],[0.3333333333333333,\"#9c179e\"],[0.4444444444444444,\"#bd3786\"],[0.5555555555555556,\"#d8576b\"],[0.6666666666666666,\"#ed7953\"],[0.7777777777777778,\"#fb9f3a\"],[0.8888888888888888,\"#fdca26\"],[1.0,\"#f0f921\"]],\"type\":\"histogram2dcontour\"}],\"mesh3d\":[{\"colorbar\":{\"outlinewidth\":0,\"ticks\":\"\"},\"type\":\"mesh3d\"}],\"parcoords\":[{\"line\":{\"colorbar\":{\"outlinewidth\":0,\"ticks\":\"\"}},\"type\":\"parcoords\"}],\"pie\":[{\"automargin\":true,\"type\":\"pie\"}],\"scatter\":[{\"marker\":{\"colorbar\":{\"outlinewidth\":0,\"ticks\":\"\"}},\"type\":\"scatter\"}],\"scatter3d\":[{\"line\":{\"colorbar\":{\"outlinewidth\":0,\"ticks\":\"\"}},\"marker\":{\"colorbar\":{\"outlinewidth\":0,\"ticks\":\"\"}},\"type\":\"scatter3d\"}],\"scattercarpet\":[{\"marker\":{\"colorbar\":{\"outlinewidth\":0,\"ticks\":\"\"}},\"type\":\"scattercarpet\"}],\"scattergeo\":[{\"marker\":{\"colorbar\":{\"outlinewidth\":0,\"ticks\":\"\"}},\"type\":\"scattergeo\"}],\"scattergl\":[{\"marker\":{\"colorbar\":{\"outlinewidth\":0,\"ticks\":\"\"}},\"type\":\"scattergl\"}],\"scattermapbox\":[{\"marker\":{\"colorbar\":{\"outlinewidth\":0,\"ticks\":\"\"}},\"type\":\"scattermapbox\"}],\"scatterpolar\":[{\"marker\":{\"colorbar\":{\"outlinewidth\":0,\"ticks\":\"\"}},\"type\":\"scatterpolar\"}],\"scatterpolargl\":[{\"marker\":{\"colorbar\":{\"outlinewidth\":0,\"ticks\":\"\"}},\"type\":\"scatterpolargl\"}],\"scatterternary\":[{\"marker\":{\"colorbar\":{\"outlinewidth\":0,\"ticks\":\"\"}},\"type\":\"scatterternary\"}],\"surface\":[{\"colorbar\":{\"outlinewidth\":0,\"ticks\":\"\"},\"colorscale\":[[0.0,\"#0d0887\"],[0.1111111111111111,\"#46039f\"],[0.2222222222222222,\"#7201a8\"],[0.3333333333333333,\"#9c179e\"],[0.4444444444444444,\"#bd3786\"],[0.5555555555555556,\"#d8576b\"],[0.6666666666666666,\"#ed7953\"],[0.7777777777777778,\"#fb9f3a\"],[0.8888888888888888,\"#fdca26\"],[1.0,\"#f0f921\"]],\"type\":\"surface\"}],\"table\":[{\"cells\":{\"fill\":{\"color\":\"#EBF0F8\"},\"line\":{\"color\":\"white\"}},\"header\":{\"fill\":{\"color\":\"#C8D4E3\"},\"line\":{\"color\":\"white\"}},\"type\":\"table\"}]},\"layout\":{\"annotationdefaults\":{\"arrowcolor\":\"#2a3f5f\",\"arrowhead\":0,\"arrowwidth\":1},\"autotypenumbers\":\"strict\",\"coloraxis\":{\"colorbar\":{\"outlinewidth\":0,\"ticks\":\"\"}},\"colorscale\":{\"diverging\":[[0,\"#8e0152\"],[0.1,\"#c51b7d\"],[0.2,\"#de77ae\"],[0.3,\"#f1b6da\"],[0.4,\"#fde0ef\"],[0.5,\"#f7f7f7\"],[0.6,\"#e6f5d0\"],[0.7,\"#b8e186\"],[0.8,\"#7fbc41\"],[0.9,\"#4d9221\"],[1,\"#276419\"]],\"sequential\":[[0.0,\"#0d0887\"],[0.1111111111111111,\"#46039f\"],[0.2222222222222222,\"#7201a8\"],[0.3333333333333333,\"#9c179e\"],[0.4444444444444444,\"#bd3786\"],[0.5555555555555556,\"#d8576b\"],[0.6666666666666666,\"#ed7953\"],[0.7777777777777778,\"#fb9f3a\"],[0.8888888888888888,\"#fdca26\"],[1.0,\"#f0f921\"]],\"sequentialminus\":[[0.0,\"#0d0887\"],[0.1111111111111111,\"#46039f\"],[0.2222222222222222,\"#7201a8\"],[0.3333333333333333,\"#9c179e\"],[0.4444444444444444,\"#bd3786\"],[0.5555555555555556,\"#d8576b\"],[0.6666666666666666,\"#ed7953\"],[0.7777777777777778,\"#fb9f3a\"],[0.8888888888888888,\"#fdca26\"],[1.0,\"#f0f921\"]]},\"colorway\":[\"#636efa\",\"#EF553B\",\"#00cc96\",\"#ab63fa\",\"#FFA15A\",\"#19d3f3\",\"#FF6692\",\"#B6E880\",\"#FF97FF\",\"#FECB52\"],\"font\":{\"color\":\"#2a3f5f\"},\"geo\":{\"bgcolor\":\"white\",\"lakecolor\":\"white\",\"landcolor\":\"#E5ECF6\",\"showlakes\":true,\"showland\":true,\"subunitcolor\":\"white\"},\"hoverlabel\":{\"align\":\"left\"},\"hovermode\":\"closest\",\"mapbox\":{\"style\":\"light\"},\"paper_bgcolor\":\"white\",\"plot_bgcolor\":\"#E5ECF6\",\"polar\":{\"angularaxis\":{\"gridcolor\":\"white\",\"linecolor\":\"white\",\"ticks\":\"\"},\"bgcolor\":\"#E5ECF6\",\"radialaxis\":{\"gridcolor\":\"white\",\"linecolor\":\"white\",\"ticks\":\"\"}},\"scene\":{\"xaxis\":{\"backgroundcolor\":\"#E5ECF6\",\"gridcolor\":\"white\",\"gridwidth\":2,\"linecolor\":\"white\",\"showbackground\":true,\"ticks\":\"\",\"zerolinecolor\":\"white\"},\"yaxis\":{\"backgroundcolor\":\"#E5ECF6\",\"gridcolor\":\"white\",\"gridwidth\":2,\"linecolor\":\"white\",\"showbackground\":true,\"ticks\":\"\",\"zerolinecolor\":\"white\"},\"zaxis\":{\"backgroundcolor\":\"#E5ECF6\",\"gridcolor\":\"white\",\"gridwidth\":2,\"linecolor\":\"white\",\"showbackground\":true,\"ticks\":\"\",\"zerolinecolor\":\"white\"}},\"shapedefaults\":{\"line\":{\"color\":\"#2a3f5f\"}},\"ternary\":{\"aaxis\":{\"gridcolor\":\"white\",\"linecolor\":\"white\",\"ticks\":\"\"},\"baxis\":{\"gridcolor\":\"white\",\"linecolor\":\"white\",\"ticks\":\"\"},\"bgcolor\":\"#E5ECF6\",\"caxis\":{\"gridcolor\":\"white\",\"linecolor\":\"white\",\"ticks\":\"\"}},\"title\":{\"x\":0.05},\"xaxis\":{\"automargin\":true,\"gridcolor\":\"white\",\"linecolor\":\"white\",\"ticks\":\"\",\"title\":{\"standoff\":15},\"zerolinecolor\":\"white\",\"zerolinewidth\":2},\"yaxis\":{\"automargin\":true,\"gridcolor\":\"white\",\"linecolor\":\"white\",\"ticks\":\"\",\"title\":{\"standoff\":15},\"zerolinecolor\":\"white\",\"zerolinewidth\":2}}},\"xaxis\":{\"anchor\":\"y\",\"domain\":[0.0,1.0],\"title\":{\"text\":\"DIFF\"},\"range\":[0.0,0.06]},\"yaxis\":{\"anchor\":\"x\",\"domain\":[0.0,1.0],\"title\":{\"text\":\"RG\"},\"range\":[2.43,2.8],\"autorange\":\"reversed\"},\"legend\":{\"tracegroupgap\":0},\"title\":{\"text\":\"15LBS Entire\"}},                        {\"responsive\": true}                    ).then(function(){\n",
       "                            \n",
       "var gd = document.getElementById('5c785287-0d32-4317-87f3-1be8f20ae4e5');\n",
       "var x = new MutationObserver(function (mutations, observer) {{\n",
       "        var display = window.getComputedStyle(gd).display;\n",
       "        if (!display || display === 'none') {{\n",
       "            console.log([gd, 'removed!']);\n",
       "            Plotly.purge(gd);\n",
       "            observer.disconnect();\n",
       "        }}\n",
       "}});\n",
       "\n",
       "// Listen for the removal of the full notebook cells\n",
       "var notebookContainer = gd.closest('#notebook-container');\n",
       "if (notebookContainer) {{\n",
       "    x.observe(notebookContainer, {childList: true});\n",
       "}}\n",
       "\n",
       "// Listen for the clearing of the current output cell\n",
       "var outputEl = gd.closest('.output');\n",
       "if (outputEl) {{\n",
       "    x.observe(outputEl, {childList: true});\n",
       "}}\n",
       "\n",
       "                        })                };                });            </script>        </div>"
      ]
     },
     "metadata": {},
     "output_type": "display_data"
    }
   ],
   "source": [
    "import plotly.express as px\n",
    "db_filtered15 = db_csv[db_csv['LBS'] == 15]\n",
    "fig = px.scatter(db_filtered15, x='DIFF', y='RG',hover_data=db_filtered15, title='15LBS Entire')\n",
    "fig.update_layout(xaxis_range=[0.000, 0.060], yaxis_range=[2.43, 2.80])\n",
    "fig.update_yaxes(autorange=\"reversed\")\n",
    "fig.show()"
   ]
  }
 ],
 "metadata": {
  "kernelspec": {
   "display_name": "Python 3 (ipykernel)",
   "language": "python",
   "name": "python3"
  },
  "language_info": {
   "codemirror_mode": {
    "name": "ipython",
    "version": 3
   },
   "file_extension": ".py",
   "mimetype": "text/x-python",
   "name": "python",
   "nbconvert_exporter": "python",
   "pygments_lexer": "ipython3",
   "version": "3.9.12"
  }
 },
 "nbformat": 4,
 "nbformat_minor": 5
}
